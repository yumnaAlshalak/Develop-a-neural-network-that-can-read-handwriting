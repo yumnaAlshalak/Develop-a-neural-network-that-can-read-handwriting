{
  "nbformat": 4,
  "nbformat_minor": 0,
  "metadata": {
    "colab": {
      "provenance": []
    },
    "kernelspec": {
      "name": "python3",
      "display_name": "Python 3"
    },
    "language_info": {
      "name": "python"
    }
  },
  "cells": [
    {
      "cell_type": "code",
      "execution_count": 1,
      "metadata": {
        "id": "FiRzfXSG84mc"
      },
      "outputs": [],
      "source": [
        "from sklearn.datasets import fetch_openml\n",
        "import matplotlib.pyplot as plt\n",
        "from sklearn.model_selection import train_test_split\n",
        "import tensorflow as tf\n",
        "from keras.datasets import mnist\n",
        "from tensorflow.keras import datasets, layers, models\n",
        "from mlxtend.data import loadlocal_mnist\n",
        "from keras.utils import np_utils"
      ]
    },
    {
      "cell_type": "code",
      "source": [
        "(X_train,y_train), (X_test, y_test)= mnist.load_data()"
      ],
      "metadata": {
        "colab": {
          "base_uri": "https://localhost:8080/"
        },
        "id": "w3uRyxKN89SR",
        "outputId": "3742a8f2-5bd2-4f55-d9d6-744a1d70a2f0"
      },
      "execution_count": 2,
      "outputs": [
        {
          "output_type": "stream",
          "name": "stdout",
          "text": [
            "Downloading data from https://storage.googleapis.com/tensorflow/tf-keras-datasets/mnist.npz\n",
            "11490434/11490434 [==============================] - 0s 0us/step\n"
          ]
        }
      ]
    },
    {
      "cell_type": "code",
      "source": [],
      "metadata": {
        "id": "o3WkXPGz9EvR"
      },
      "execution_count": 2,
      "outputs": []
    },
    {
      "cell_type": "code",
      "source": [],
      "metadata": {
        "id": "V2loaJ1nCVcz"
      },
      "execution_count": 2,
      "outputs": []
    },
    {
      "cell_type": "code",
      "source": [
        "plt.imshow(X_train[4])"
      ],
      "metadata": {
        "colab": {
          "base_uri": "https://localhost:8080/",
          "height": 282
        },
        "id": "kVCrWucQ_D-R",
        "outputId": "2187b013-12eb-40ba-ce2a-d2c08ecb2daa"
      },
      "execution_count": 3,
      "outputs": [
        {
          "output_type": "execute_result",
          "data": {
            "text/plain": [
              "<matplotlib.image.AxesImage at 0x7ff3042b5210>"
            ]
          },
          "metadata": {},
          "execution_count": 3
        },
        {
          "output_type": "display_data",
          "data": {
            "text/plain": [
              "<Figure size 432x288 with 1 Axes>"
            ],
            "image/png": "[encoded data removed]"
          },
          "metadata": {
            "needs_background": "light"
          }
        }
      ]
    },
    {
      "cell_type": "code",
      "source": [
        "plt.imshow(X_train[10])"
      ],
      "metadata": {
        "colab": {
          "base_uri": "https://localhost:8080/",
          "height": 282
        },
        "id": "CRlO5yilChwA",
        "outputId": "4edb4c26-cd7a-4d8f-976d-07889bf863f6"
      },
      "execution_count": 4,
      "outputs": [
        {
          "output_type": "execute_result",
          "data": {
            "text/plain": [
              "<matplotlib.image.AxesImage at 0x7ff2fc14df10>"
            ]
          },
          "metadata": {},
          "execution_count": 4
        },
        {
          "output_type": "display_data",
          "data": {
            "text/plain": [
              "<Figure size 432x288 with 1 Axes>"
            ],
            "image/png": "[encoded data removed]"
          },
          "metadata": {
            "needs_background": "light"
          }
        }
      ]
    },
    {
      "cell_type": "code",
      "source": [
        "plt.imshow(X_train[1])"
      ],
      "metadata": {
        "colab": {
          "base_uri": "https://localhost:8080/",
          "height": 282
        },
        "id": "FZM7ai_aES31",
        "outputId": "e5cb3e36-4f6e-46bd-cbe3-e4b2af13a71f"
      },
      "execution_count": 5,
      "outputs": [
        {
          "output_type": "execute_result",
          "data": {
            "text/plain": [
              "<matplotlib.image.AxesImage at 0x7ff2fc144e90>"
            ]
          },
          "metadata": {},
          "execution_count": 5
        },
        {
          "output_type": "display_data",
          "data": {
            "text/plain": [
              "<Figure size 432x288 with 1 Axes>"
            ],
            "image/png": "[encoded data removed]"
          },
          "metadata": {
            "needs_background": "light"
          }
        }
      ]
    },
    {
      "cell_type": "code",
      "source": [
        "X_train.shape"
      ],
      "metadata": {
        "id": "OAjgTJ9tEVgs",
        "colab": {
          "base_uri": "https://localhost:8080/"
        },
        "outputId": "0c90d9d2-4826-4dff-ebb9-31a3142296c6"
      },
      "execution_count": 6,
      "outputs": [
        {
          "output_type": "execute_result",
          "data": {
            "text/plain": [
              "(60000, 28, 28)"
            ]
          },
          "metadata": {},
          "execution_count": 6
        }
      ]
    },
    {
      "cell_type": "code",
      "source": [
        "number_pix=X_train.shape[1]*X_train.shape[2] \n",
        "X_train=X_train.reshape(X_train.shape[0], 1,28,28).astype('float32')\n",
        "X_test=X_test.reshape(X_test.shape[0], 1,28,28).astype('float32')"
      ],
      "metadata": {
        "id": "m22pSCT7fV2j"
      },
      "execution_count": 7,
      "outputs": []
    },
    {
      "cell_type": "code",
      "source": [
        "X_train, X_test = X_train / 255.0, X_test / 255.0"
      ],
      "metadata": {
        "id": "Ew9kquEAMAJT"
      },
      "execution_count": 8,
      "outputs": []
    },
    {
      "cell_type": "code",
      "source": [
        "y_train= np_utils.to_categorical(y_train)\n",
        "y_test= np_utils.to_categorical(y_test)"
      ],
      "metadata": {
        "id": "PaURNZk3NtCK"
      },
      "execution_count": 9,
      "outputs": []
    },
    {
      "cell_type": "code",
      "source": [
        "model=models.Sequential()\n",
        "model.add(layers.Conv2D(32,5,5, padding='same',input_shape=(1,28,28), activation='relu'))\n",
        "model.add(layers.MaxPooling2D(pool_size=(2,2), padding='same'))\n",
        "model.add(layers.Dropout(0.2))\n",
        "model.add(layers.Flatten())\n",
        "model.add(layers.Dense(128, activation='relu'))\n",
        "model.add(layers.Dense(y_train.shape[1], activation='softmax'))\n",
        "model.compile(loss='categorical_crossentropy', optimizer='adam', metrics=['accuracy'])"
      ],
      "metadata": {
        "id": "1pUoiX3SYrle"
      },
      "execution_count": 12,
      "outputs": []
    },
    {
      "cell_type": "code",
      "source": [
        "model.fit(X_train, y_train, validation_data=(X_test,y_test),epochs=10, batch_size=200, verbose=2)"
      ],
      "metadata": {
        "colab": {
          "base_uri": "https://localhost:8080/"
        },
        "id": "2JarzJmYcjir",
        "outputId": "08bd9d3e-f36a-43e7-b268-ed66456eb399"
      },
      "execution_count": 13,
      "outputs": [
        {
          "output_type": "stream",
          "name": "stdout",
          "text": [
            "Epoch 1/10\n",
            "300/300 - 4s - loss: 0.7779 - accuracy: 0.7593 - val_loss: 0.3131 - val_accuracy: 0.9056 - 4s/epoch - 13ms/step\n",
            "Epoch 2/10\n",
            "300/300 - 3s - loss: 0.3520 - accuracy: 0.8914 - val_loss: 0.2162 - val_accuracy: 0.9360 - 3s/epoch - 11ms/step\n",
            "Epoch 3/10\n",
            "300/300 - 3s - loss: 0.2840 - accuracy: 0.9121 - val_loss: 0.1780 - val_accuracy: 0.9468 - 3s/epoch - 10ms/step\n",
            "Epoch 4/10\n",
            "300/300 - 3s - loss: 0.2491 - accuracy: 0.9215 - val_loss: 0.1593 - val_accuracy: 0.9521 - 3s/epoch - 10ms/step\n",
            "Epoch 5/10\n",
            "300/300 - 3s - loss: 0.2265 - accuracy: 0.9286 - val_loss: 0.1450 - val_accuracy: 0.9560 - 3s/epoch - 10ms/step\n",
            "Epoch 6/10\n",
            "300/300 - 3s - loss: 0.2062 - accuracy: 0.9354 - val_loss: 0.1315 - val_accuracy: 0.9602 - 3s/epoch - 10ms/step\n",
            "Epoch 7/10\n",
            "300/300 - 3s - loss: 0.1956 - accuracy: 0.9395 - val_loss: 0.1206 - val_accuracy: 0.9623 - 3s/epoch - 10ms/step\n",
            "Epoch 8/10\n",
            "300/300 - 3s - loss: 0.1816 - accuracy: 0.9441 - val_loss: 0.1114 - val_accuracy: 0.9658 - 3s/epoch - 10ms/step\n",
            "Epoch 9/10\n",
            "300/300 - 3s - loss: 0.1749 - accuracy: 0.9463 - val_loss: 0.1067 - val_accuracy: 0.9668 - 3s/epoch - 10ms/step\n",
            "Epoch 10/10\n",
            "300/300 - 4s - loss: 0.1635 - accuracy: 0.9490 - val_loss: 0.1037 - val_accuracy: 0.9676 - 4s/epoch - 12ms/step\n"
          ]
        },
        {
          "output_type": "execute_result",
          "data": {
            "text/plain": [
              "<keras.callbacks.History at 0x7ff2fc1691d0>"
            ]
          },
          "metadata": {},
          "execution_count": 13
        }
      ]
    },
    {
      "cell_type": "code",
      "source": [
        "test_loss, test_acc = model.evaluate(X_test,  y_test, verbose=2)"
      ],
      "metadata": {
        "id": "PAzR1oiceiFK",
        "colab": {
          "base_uri": "https://localhost:8080/"
        },
        "outputId": "75219b8d-685b-41ac-ccc0-c3780c47e9e5"
      },
      "execution_count": 14,
      "outputs": [
        {
          "output_type": "stream",
          "name": "stdout",
          "text": [
            "313/313 - 1s - loss: 0.1037 - accuracy: 0.9676 - 922ms/epoch - 3ms/step\n"
          ]
        }
      ]
    },
    {
      "cell_type": "code",
      "source": [
        "test_acc"
      ],
      "metadata": {
        "colab": {
          "base_uri": "https://localhost:8080/"
        },
        "id": "xcG67iTTOct7",
        "outputId": "aa7f892d-bd0c-4fcd-cc31-d24a5654524b"
      },
      "execution_count": 15,
      "outputs": [
        {
          "output_type": "execute_result",
          "data": {
            "text/plain": [
              "0.9675999879837036"
            ]
          },
          "metadata": {},
          "execution_count": 15
        }
      ]
    },
    {
      "cell_type": "code",
      "source": [],
      "metadata": {
        "id": "jQfqugTjOelt"
      },
      "execution_count": null,
      "outputs": []
    }
  ]
}